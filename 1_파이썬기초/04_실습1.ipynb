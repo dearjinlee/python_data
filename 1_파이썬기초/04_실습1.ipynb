{
 "cells": [
  {
   "cell_type": "markdown",
   "metadata": {},
   "source": [
    "### 구구단 출력하기"
   ]
  },
  {
   "cell_type": "markdown",
   "metadata": {},
   "source": [
    "### 1단 출력"
   ]
  },
  {
   "cell_type": "markdown",
   "metadata": {},
   "source": [
    "for n in range(1, 10):              # 1~9까지 숫자 추출을 위한 반복문\n",
    "    \n",
    "    print(1, 'x', n, '=', 1*n)      # 1 x 1 = 1 포맷의 출력"
   ]
  },
  {
   "cell_type": "code",
   "execution_count": null,
   "metadata": {},
   "outputs": [],
   "source": []
  },
  {
   "cell_type": "markdown",
   "metadata": {},
   "source": [
    "### 원하는 구구단 출력"
   ]
  },
  {
   "cell_type": "markdown",
   "metadata": {},
   "source": [
    "m = int(input('구구단 몇 단을 출력 할까요? 숫자를 입력하세요: '))\n",
    "\n",
    "while m < 1 or m > 9:\n",
    "\n",
    "    m = int(input('구구단은 1단부터 9단까지 출력 가능합니다. 맞는 숫자를 다시 입력하세요: '))\n",
    "\n",
    "for n in range(1, 10):\n",
    "\n",
    "    print(m, 'x', n, '=', m*n)"
   ]
  },
  {
   "cell_type": "code",
   "execution_count": null,
   "metadata": {},
   "outputs": [],
   "source": [
    " "
   ]
  },
  {
   "cell_type": "markdown",
   "metadata": {},
   "source": [
    "### 구구단 전체 출력"
   ]
  },
  {
   "cell_type": "markdown",
   "metadata": {},
   "source": [
    "for m in range(1, 10):\n",
    "    \n",
    "    print('='*10)\n",
    "    \n",
    "    for n in range(1, 10):\n",
    "        \n",
    "        print(m, 'x', n, '=', m*n)"
   ]
  },
  {
   "cell_type": "code",
   "execution_count": null,
   "metadata": {},
   "outputs": [],
   "source": []
  },
  {
   "cell_type": "markdown",
   "metadata": {},
   "source": [
    "### 문자열 다루기"
   ]
  },
  {
   "cell_type": "markdown",
   "metadata": {},
   "source": [
    "s = input('영어 대소문자로 이루어진 문장을 입력하세요.\\n')  # 문자열 입력\n",
    "\n",
    "print('모두 대문자로 출력\\n' + s.upper())   # 대문자로 모두 변환\n",
    "\n",
    "print('모두 소문자로 출력\\n' + s.lower())   # 소문자로 모두 변환\n",
    "\n",
    "new_s = str()   # 신규 문자열 형 변수 선언\n",
    "\n",
    "for c in s:     # 입력 받은 문자를 하나씩 꺼내서 c에 대입\n",
    "\n",
    "    if c.islower():         # 해당 문자가 소문자이면\n",
    "        new_s += c.upper()  # 대문자로 변경하여 new_s에 붙이기\n",
    "    else:                   # 해당 문자가 대문자이면\n",
    "        new_s += c.lower()  # 소문자로 변경하여 new_s에 붙이\n",
    "\n",
    "print('대소문자 바꿔서 출력\\n' + new_s)             # 최종 변환 결과 출력\n",
    "\n",
    "print('대소문자 바꿔서 출력\\n' + s.swapcase())      # 대소문자 모두 변환"
   ]
  },
  {
   "cell_type": "code",
   "execution_count": null,
   "metadata": {},
   "outputs": [],
   "source": []
  },
  {
   "cell_type": "markdown",
   "metadata": {},
   "source": [
    "### 문자열 순서 바꾸기"
   ]
  },
  {
   "cell_type": "markdown",
   "metadata": {},
   "source": [
    "\n",
    "s = input('영어 문장을 입력하세요.\\n')  # 문자열 입력\n",
    "\n",
    "new_s = str()                       # 신규 문자열형 변수 선언\n",
    "\n",
    "for x in range(len(s)-1, -1, -1):   # range()를 활용한 역순 인덱스 추출\n",
    "\n",
    "    new_s += s[x]                   # 문자열을 끝에서부터 앞으로 신규 변수에 붙이기\n",
    "\n",
    "print(new_s)                        # 위 결과 출력\n",
    "\n",
    "print(s[::-1])                      # 인덱스 사용법으로 역순 출력\n"
   ]
  },
  {
   "cell_type": "code",
   "execution_count": null,
   "metadata": {},
   "outputs": [],
   "source": []
  },
  {
   "cell_type": "markdown",
   "metadata": {},
   "source": [
    "## 책 목록 만들기"
   ]
  },
  {
   "cell_type": "markdown",
   "metadata": {},
   "source": [
    "\n",
    "books = list()      # 책 목록 선언\n",
    "\n",
    "# 책 목록 만들기\n",
    "books.append({'제목':'개발자의 코드', '출판연도':'2013.02.28', '출판사':'A', '쪽수':200, '추천유무':False})\n",
    "\n",
    "books.append({'제목':'클린 코드', '출판연도':'2013.03.04', '출판사':'B', '쪽수':584, '추천유무':True})\n",
    "\n",
    "books.append({'제목':'빅데이터 마케팅', '출판연도':'2014.07.02', '출판사':'A', '쪽수':296, '추천유무':True})\n",
    "\n",
    "books.append({'제목':'구글드', '출판연도':'2010.02.10', '출판사':'B', '쪽수':526, '추천유무':False})\n",
    "\n",
    "books.append({'제목':'강의력', '출판연도':'2013.12.12', '출판사':'A', '쪽수':248, '추천유무':True})\n",
    "\n",
    "\n",
    "for book in books:  # 책 한 권씩 꺼내기 위한 루프 선언\n",
    "\n",
    "    print(book)     # 책 한 권 데이터 출력"
   ]
  },
  {
   "cell_type": "code",
   "execution_count": null,
   "metadata": {},
   "outputs": [],
   "source": []
  },
  {
   "cell_type": "markdown",
   "metadata": {},
   "source": [
    "### 여러 데이터 만들기"
   ]
  },
  {
   "cell_type": "code",
   "execution_count": 2,
   "metadata": {},
   "outputs": [],
   "source": [
    "books = list()      # 책 목록 선언\n",
    "\n",
    "# 책 목록 만들기\n",
    "books.append({'제목':'개발자의 코드', '출판연도':'2013.02.28', '출판사':'A', '쪽수':200, '추천유무':False})\n",
    "books.append({'제목':'클린 코드', '출판연도':'2013.03.04', '출판사':'B', '쪽수':584, '추천유무':True})\n",
    "books.append({'제목':'빅데이터 마케팅', '출판연도':'2014.07.02', '출판사':'A', '쪽수':296, '추천유무':True})\n",
    "books.append({'제목':'구글드', '출판연도':'2010.02.10', '출판사':'B', '쪽수':526, '추천유무':False})\n",
    "books.append({'제목':'강의력', '출판연도':'2013.12.12', '출판사':'A', '쪽수':248, '추천유무':True})"
   ]
  },
  {
   "cell_type": "markdown",
   "metadata": {},
   "source": [
    "\n",
    "many_page = list()                              # 책 리스트 선언\n",
    "\n",
    "recommends = list()                             # 책 리스트 선언\n",
    "\n",
    "all_pages = int()                               # 전체 쪽수 변수 선언\n",
    "\n",
    "pub_companies = set()                           # 출판사 집합 선"
   ]
  },
  {
   "cell_type": "markdown",
   "metadata": {},
   "source": [
    "for book in books:                              # 책 한 권씩 꺼내기 위한 루프 선언\n",
    "    \n",
    "    if book['쪽수'] > 250:                       # 250쪽 넘는 책 목록 만들기\n",
    "        \n",
    "        many_page.append(book['제목'])\n",
    "        \n",
    "    if book['추천유무']:                          # 책 추천 목록 만들기\n",
    "        \n",
    "        recommends.append(book['제목'])\n",
    "        \n",
    "    all_pages = all_pages + book['쪽수']         # 책 쪽수 더하기\n",
    "    \n",
    "    pub_companies.add(book['출판사'])\n",
    "\n",
    "print('쪽수가 250 쪽 넘는 책 리스트:', many_page)\n",
    "\n",
    "print('내가 추천하는 책 리스트:', recommends)\n",
    "\n",
    "print('내가 읽은 책 전체 쪽수:', all_pages)\n",
    "\n",
    "print('내가 읽은 책의 출판사 목록:', pub_companies)"
   ]
  },
  {
   "cell_type": "code",
   "execution_count": null,
   "metadata": {},
   "outputs": [],
   "source": []
  },
  {
   "cell_type": "markdown",
   "metadata": {},
   "source": [
    "### 코드 간단히 만들기"
   ]
  },
  {
   "cell_type": "code",
   "execution_count": 4,
   "metadata": {},
   "outputs": [],
   "source": [
    "### 책 목록 만들기\n",
    "books = list()      # 책 목록 선언\n",
    "books.append({'제목':'개발자의 코드', '출판연도':'2013.02.28', '출판사':'A', '쪽수':200, '추천유무':False})\n",
    "books.append({'제목':'클린 코드', '출판연도':'2013.03.04', '출판사':'B', '쪽수':584, '추천유무':True})\n",
    "books.append({'제목':'빅데이터 마케팅', '출판연도':'2014.07.02', '출판사':'A', '쪽수':296, '추천유무':True})\n",
    "books.append({'제목':'구글드', '출판연도':'2010.02.10', '출판사':'B', '쪽수':526, '추천유무':False})\n",
    "books.append({'제목':'강의력', '출판연도':'2013.12.12', '출판사':'A', '쪽수':248, '추천유무':True})"
   ]
  },
  {
   "cell_type": "markdown",
   "metadata": {},
   "source": [
    "\n",
    "many_page = [book['제목'] for book in books if book['쪽수'] > 250]      # 쪽수 많은 책 리스트 만들기\n",
    "\n",
    "print('쪽수가 250 쪽 넘는 책 리스트:', many_page)"
   ]
  },
  {
   "cell_type": "code",
   "execution_count": null,
   "metadata": {},
   "outputs": [],
   "source": []
  },
  {
   "cell_type": "code",
   "execution_count": null,
   "metadata": {},
   "outputs": [],
   "source": []
  }
 ],
 "metadata": {
  "kernelspec": {
   "display_name": "Python 3",
   "language": "python",
   "name": "python3"
  },
  "language_info": {
   "codemirror_mode": {
    "name": "ipython",
    "version": 3
   },
   "file_extension": ".py",
   "mimetype": "text/x-python",
   "name": "python",
   "nbconvert_exporter": "python",
   "pygments_lexer": "ipython3",
   "version": "3.8.5"
  }
 },
 "nbformat": 4,
 "nbformat_minor": 2
}
