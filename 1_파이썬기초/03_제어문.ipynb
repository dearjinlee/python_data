{
 "cells": [
  {
   "cell_type": "markdown",
   "metadata": {},
   "source": [
    "## if 문"
   ]
  },
  {
   "cell_type": "markdown",
   "metadata": {},
   "source": [
    "#### if - else 문"
   ]
  },
  {
   "cell_type": "markdown",
   "metadata": {},
   "source": [
    "### if - else 문 예시 #############################################\n"
   ]
  },
  {
   "cell_type": "markdown",
   "metadata": {},
   "source": [
    "signal_color = input('색을 영문으로 입력하세요: ')     # 색 입력 요청 \\\n",
    "\n",
    "if signal_color == 'blue':                              # 파란색인 경우 \\\n",
    "\n",
    "    print('신호등은 파란색입니다. 건너세요.')\n",
    "    \n",
    "else:                                                   # 빨간색인 경우 \\\n",
    "\n",
    "    print('신호등은 빨간색입니다. 기다리세요.')\n"
   ]
  },
  {
   "cell_type": "code",
   "execution_count": 2,
   "metadata": {},
   "outputs": [
    {
     "name": "stdout",
     "output_type": "stream",
     "text": [
      "색을 영문으로 입력하세요 :yellow\n"
     ]
    }
   ],
   "source": []
  },
  {
   "cell_type": "code",
   "execution_count": 7,
   "metadata": {},
   "outputs": [
    {
     "name": "stdout",
     "output_type": "stream",
     "text": [
      "색을 영문으로 입력하세요 :red\n",
      "파란색이 아닙니다.\n",
      "신호등은 빨간색입니다. 기다리세요\n"
     ]
    }
   ],
   "source": [
    "signal_color = input('색을 영문으로 입력하세요 :')\n",
    "if signal_color == 'blue':\n",
    "    print('파란색')\n",
    "    print('신호등은 파란색입니다. 건너가세요')\n",
    "else:\n",
    "    print('파란색이 아닙니다.')\n",
    "    print('신호등은 빨간색입니다. 기다리세요')"
   ]
  },
  {
   "cell_type": "code",
   "execution_count": null,
   "metadata": {},
   "outputs": [],
   "source": [
    "signal_color"
   ]
  },
  {
   "cell_type": "markdown",
   "metadata": {},
   "source": [
    "- yellow 입력시 "
   ]
  },
  {
   "cell_type": "markdown",
   "metadata": {},
   "source": [
    "### if - else 문 예시 #############################################\n"
   ]
  },
  {
   "cell_type": "markdown",
   "metadata": {},
   "source": [
    "\n",
    "signal_color = input('색을 영문으로 입력하세요: ')     # 색 입력 요청 \n",
    "\n",
    "if signal_color == 'blue':                              # 파란색인 경우\n",
    "\n",
    "    print('신호등은 파란색입니다. 건너세요.')\n",
    "    \n",
    "else:                                                   # 빨간색인 경우\n",
    "\n",
    "    print('신호등은 빨간색입니다. 기다리세요.')\n"
   ]
  },
  {
   "cell_type": "code",
   "execution_count": null,
   "metadata": {},
   "outputs": [],
   "source": []
  },
  {
   "cell_type": "markdown",
   "metadata": {},
   "source": [
    "#### if - elif - else 문"
   ]
  },
  {
   "cell_type": "markdown",
   "metadata": {},
   "source": [
    "signal_color = input('색을 영문으로 입력하세요: ')     # 색 입력 요청\n",
    "\n",
    "if signal_color == 'blue':                              # 파란색인 경우\n",
    "    \n",
    "    print('신호등은 파란색입니다. 건너세요.')\n",
    "    \n",
    "elif signal_color == 'red':                             # 빨간색인 경우\n",
    "\n",
    "    print('신호등은 빨간색입니다. 기다리세요.')\n",
    "    \n",
    "else:                                                   # 모르는 색인 경우\n",
    "\n",
    "    print('잘못된 색입니다.')\n"
   ]
  },
  {
   "cell_type": "code",
   "execution_count": 11,
   "metadata": {},
   "outputs": [
    {
     "name": "stdout",
     "output_type": "stream",
     "text": [
      "색을 영문으로 입력하세요: blue\n",
      "신호등은 파란색입니다. 건너세요\n"
     ]
    }
   ],
   "source": [
    "signal_color = input('색을 영문으로 입력하세요: ') # 색 입력 요청\n",
    "\n",
    "if signal_color == 'blue':\n",
    "    print('신호등은 파란색입니다. 건너세요')\n",
    "elif signal_color == 'red':\n",
    "    print('신호등은 빨간색입니다. 기다리세요')\n",
    "else:\n",
    "    print('잘못된 색입니다.')"
   ]
  },
  {
   "cell_type": "markdown",
   "metadata": {},
   "source": [
    "#### 중첩 if 문"
   ]
  },
  {
   "cell_type": "markdown",
   "metadata": {},
   "source": [
    "signal_color = input('색을 영문으로 입력하세요: ')         # 색 입력 요청\n",
    "\n",
    "if signal_color == 'blue':                                  # 파란색인 경우\n",
    "\n",
    "    print('신호등은 파란색입니다. 건너세요.')\n",
    "\n",
    "    is_pass = input('건널 준비가 되었나요? (yes/no)')    # 건널 준비가 되었는지 확인\n",
    "    \n",
    "    if is_pass == 'yes':                                    # 준비가 된 경우\n",
    "    \n",
    "        print('건너겠습니다!!')\n",
    "        \n",
    "    else:                                                   # 준비가 안 된 경우\n",
    "    \n",
    "        print('다음 번에 건너겠습니다.')\n",
    "    \n",
    "elif signal_color == 'red':                                 # 빨간색인 경우\n",
    "\n",
    "    print('신호등은 빨간색입니다. 기다리세요.')\n",
    "    \n",
    "else:                                                       # 모르는 색인 경우\n",
    "\n",
    "    print('잘못된 색입니다.')"
   ]
  },
  {
   "cell_type": "code",
   "execution_count": 13,
   "metadata": {},
   "outputs": [
    {
     "name": "stdout",
     "output_type": "stream",
     "text": [
      "색을 영문으로 입력하세요: blue\n",
      "신호등은 파란색입니다. 건너세요.\n",
      "건널 준비가 되었나요? (yes/no)yess\n",
      "다음번에 건너겠습니다.\n"
     ]
    }
   ],
   "source": [
    "signal_color = input('색을 영문으로 입력하세요: ') # 색 입력 요청\n",
    "\n",
    "if signal_color == 'blue':\n",
    "    print('신호등은 파란색입니다. 건너세요.')\n",
    "    \n",
    "    is_pass = input('건널 준비가 되었나요? (yes/no)')\n",
    "    \n",
    "    if is_pass == 'yes':\n",
    "        print('건너겠습니다')\n",
    "    else:\n",
    "        print('다음번에 건너겠습니다.')\n",
    "\n",
    "elif signal_color == 'red': # 빨간색인 경우\n",
    "    print('신호등은 빨간색입니다. 기다리세요.')\n",
    "else: # 모르는 색인 경우\n",
    "\n",
    "    print('잘못된 색입니다.') "
   ]
  },
  {
   "cell_type": "markdown",
   "metadata": {},
   "source": [
    "### Q1\n",
    "\n",
    "다음 코드의 결과값은 무엇일까요?"
   ]
  },
  {
   "cell_type": "code",
   "execution_count": 14,
   "metadata": {},
   "outputs": [
    {
     "name": "stdout",
     "output_type": "stream",
     "text": [
      "shirt\n"
     ]
    }
   ],
   "source": [
    "a = \"Life is too short, you need python\"\n",
    "\n",
    "if 'wife' in a:\n",
    "    print('wife')\n",
    "elif 'python' in a and 'you' not in a:\n",
    "    print('python')\n",
    "elif 'shirt' not in a:\n",
    "    print('shirt')\n",
    "elif 'need' in a:\n",
    "    print('need')\n",
    "else:\n",
    "    print('none')"
   ]
  },
  {
   "cell_type": "markdown",
   "metadata": {},
   "source": [
    "### while 문"
   ]
  },
  {
   "cell_type": "markdown",
   "metadata": {},
   "source": [
    "signal_color = ''                                              # 변수 선언 및 초기화\n",
    "\n",
    "while signal_color != 'blue' and signal_color != 'red':     # 반복문 시작\n",
    "\n",
    "    signal_color = input('색을 영문으로 입력하세요: ')      # 표준 입력문\n",
    "     \n",
    "    if signal_color == 'blue':                                # 파란색인 경우\n",
    "        print('신호등은 파란색입니다. 건너세요.')\n",
    "    elif signal_color == 'red':                               # 빨간색인 경우\n",
    "        print('신호등은 빨간색입니다. 기다리세요.')\n",
    "    else:                                                      # 모르는 색인 경우\n",
    "        print('잘못된 색입니다. 다시 입력 하세요.')\n",
    "\n",
    "print('프로그램을 종료합니다.')                              # 반복문 종료 후 출력\n"
   ]
  },
  {
   "cell_type": "code",
   "execution_count": 15,
   "metadata": {},
   "outputs": [
    {
     "name": "stdout",
     "output_type": "stream",
     "text": [
      "색을 영문으로 입력하세요: yeloow\n",
      "잘못된 색입니다. 다시 입력 하세요.\n",
      "색을 영문으로 입력하세요: black\n",
      "잘못된 색입니다. 다시 입력 하세요.\n",
      "색을 영문으로 입력하세요: blue\n",
      "신호등은 파란색입니다. 건너세요.\n"
     ]
    }
   ],
   "source": [
    "signal_color = '' # 변수 선언 및 초기화\n",
    "\n",
    "while signal_color != 'blue' and signal_color != 'red':\n",
    "    \n",
    "    signal_color = input('색을 영문으로 입력하세요: ')      # 표준 입력문\n",
    "    \n",
    "    if signal_color == 'blue':                                # 파란색인 경우\n",
    "        print('신호등은 파란색입니다. 건너세요.')\n",
    "    elif signal_color == 'red':                               # 빨간색인 경우\n",
    "        print('신호등은 빨간색입니다. 기다리세요.')\n",
    "    else:                                                      # 모르는 색인 경우\n",
    "        print('잘못된 색입니다. 다시 입력 하세요.')\n",
    "    "
   ]
  },
  {
   "cell_type": "markdown",
   "metadata": {},
   "source": [
    "### Q1. \n",
    "#### 3의 배수의 합\n",
    "\n",
    "1부터 1000까지의 자연수 중 3의 배수의 합을 구하시오."
   ]
  },
  {
   "cell_type": "code",
   "execution_count": null,
   "metadata": {},
   "outputs": [],
   "source": []
  },
  {
   "cell_type": "markdown",
   "metadata": {},
   "source": [
    "### Q2. \n",
    "\n",
    "다음은 A학급 학생의 점수를 나타내는 리스트이다. 다음 리스트에서 50점 이상의 점수들의 총합을 구하시오.\n",
    "\n",
    "A = [20, 55, 67, 82, 45, 33, 90, 87, 100, 25]"
   ]
  },
  {
   "cell_type": "code",
   "execution_count": null,
   "metadata": {},
   "outputs": [],
   "source": []
  },
  {
   "cell_type": "markdown",
   "metadata": {},
   "source": [
    "### for 문"
   ]
  },
  {
   "cell_type": "markdown",
   "metadata": {},
   "source": [
    "signals = 'blue', 'yellow', 'red'    # 3가지 색에 대한 튜플 생성\n",
    "\n",
    "for signal in signals:                 # for 문 실행\n",
    "    \n",
    "    print(signal, len(signal))          # 튜플의 값, 길이 출력\n"
   ]
  },
  {
   "cell_type": "code",
   "execution_count": 16,
   "metadata": {},
   "outputs": [
    {
     "name": "stdout",
     "output_type": "stream",
     "text": [
      "blue 4\n",
      "yellow 6\n",
      "red 3\n"
     ]
    }
   ],
   "source": [
    "signals = 'blue', 'yellow', 'red' # 3가지 색에 대한 튜플 생성\n",
    "\n",
    "for signal in signals:\n",
    "    \n",
    "    print(signal, len(signal))"
   ]
  },
  {
   "cell_type": "markdown",
   "metadata": {},
   "source": [
    "#### for문과 range() 함수"
   ]
  },
  {
   "cell_type": "markdown",
   "metadata": {},
   "source": [
    "signals = 'blue', 'yellow', 'red'   \t\t   # 3가지 색에 대한 튜플 생성\n",
    "\n",
    "for x in range(len(signals)):         \t\t   # range() 함수를 통한 for 문 수행\n",
    "\n",
    "    print(x, signals[x], len(signals[x]))      # 튜플의 색인, 값, 길이 출력\n"
   ]
  },
  {
   "cell_type": "code",
   "execution_count": 29,
   "metadata": {},
   "outputs": [
    {
     "name": "stdout",
     "output_type": "stream",
     "text": [
      "0\n",
      "1\n",
      "2\n"
     ]
    }
   ],
   "source": [
    "signals = 'blue', 'yellow', 'red' # 3가지 색에 대한 튜플 생성\n",
    "# len(signals) == 3\n",
    "for i in range(len(signals)):\n",
    "    print(i)\n"
   ]
  },
  {
   "cell_type": "markdown",
   "metadata": {},
   "source": [
    "#### 중첩 for 문"
   ]
  },
  {
   "cell_type": "code",
   "execution_count": 30,
   "metadata": {},
   "outputs": [],
   "source": [
    "nest = [[1, 2, 3], [4, 5, 6], [7, 8, 9]]"
   ]
  },
  {
   "cell_type": "code",
   "execution_count": 32,
   "metadata": {},
   "outputs": [
    {
     "name": "stdout",
     "output_type": "stream",
     "text": [
      "[1, 2, 3]\n",
      "[4, 5, 6]\n",
      "[7, 8, 9]\n"
     ]
    }
   ],
   "source": [
    "for item in nest:\n",
    "    print(item)"
   ]
  },
  {
   "cell_type": "markdown",
   "metadata": {},
   "source": [
    "for x in range(3):\n",
    "\n",
    "    for y in range(3):\n",
    "    \n",
    "        print('nest[', x, '][', y, ']:', nest[x][y])"
   ]
  },
  {
   "cell_type": "code",
   "execution_count": 33,
   "metadata": {},
   "outputs": [
    {
     "name": "stdout",
     "output_type": "stream",
     "text": [
      "nest[ 0 ][ 0 ] 1\n",
      "nest[ 0 ][ 1 ] 2\n",
      "nest[ 0 ][ 2 ] 3\n",
      "nest[ 1 ][ 0 ] 4\n",
      "nest[ 1 ][ 1 ] 5\n",
      "nest[ 1 ][ 2 ] 6\n",
      "nest[ 2 ][ 0 ] 7\n",
      "nest[ 2 ][ 1 ] 8\n",
      "nest[ 2 ][ 2 ] 9\n"
     ]
    }
   ],
   "source": [
    "for x in range(3):\n",
    "    for y in range(3):\n",
    "        print('nest[', x, '][', y, ']', nest[x][y])"
   ]
  },
  {
   "cell_type": "markdown",
   "metadata": {},
   "source": [
    "#### break 문"
   ]
  },
  {
   "cell_type": "markdown",
   "metadata": {},
   "source": [
    "signals = 'blue', 'yellow', 'red'            # 3가지 색에 대한 튜플 생성\n",
    "\n",
    "for x in range(len(signals)):         \t\t    # range() 함수를 통한 for 문 수행\n",
    "\n",
    "    print(x, signals[x], '루프 시작!')      \t# 튜플의 색인, 값, 루프 시작 메시지 출력 \n",
    "    \n",
    "    if signals[x] == 'yellow':\n",
    "    \n",
    "        break                                  # 반복문 수행 종료\n",
    "        \n",
    "    print(x, signals[x], '루프 종료!!')      \t# 튜플의 색인, 값, 루프 종료 메시지 출력\n",
    "    \n",
    "    \n",
    "print('프로그램 종료!!')                      # 프로그램 종료 메시지 출력"
   ]
  },
  {
   "cell_type": "code",
   "execution_count": 34,
   "metadata": {},
   "outputs": [
    {
     "name": "stdout",
     "output_type": "stream",
     "text": [
      "0 blue 루프시작\n",
      "0 blue 루프종료\n",
      "1 yellow 루프시작\n",
      "yellow니까 종료한다.\n"
     ]
    }
   ],
   "source": [
    "signals = 'blue', 'yellow', 'red' # 3가지 색에 대한 튜플 생성\n",
    "\n",
    "for x in range(len(signals)):\n",
    "    \n",
    "    print(x, signals[x], '루프시작')\n",
    "    \n",
    "    if signals[x] == 'yellow':\n",
    "        print('yellow니까 종료한다.')\n",
    "        break\n",
    "        \n",
    "    print(x, signals[x], '루프종료')"
   ]
  },
  {
   "cell_type": "markdown",
   "metadata": {},
   "source": [
    "####  continue"
   ]
  },
  {
   "cell_type": "markdown",
   "metadata": {},
   "source": [
    "signals = 'blue', 'yellow', 'red'            # 3가지 색에 대한 튜플 생성\n",
    "\n",
    "for x in range(len(signals)):         \t\t    # range() 함수를 통한 for 문 수행\n",
    "\n",
    "    print(x, signals[x], '루프 시작!')      \t# 튜플의 색인, 값, 루프 시작 메시지 출력 \n",
    "    \n",
    "    if signals[x] == 'yellow':\n",
    "    \n",
    "        continue                               # 루프 수행 종료\n",
    "        \n",
    "    print(x, signals[x], '루프 종료!!')      \t# 튜플의 색인, 값, 루프 종료 메시지 출력\n",
    "    \n",
    "    \n",
    "print('프로그램 종료!!')                      # 프로그램 종료 메시지 출력"
   ]
  },
  {
   "cell_type": "code",
   "execution_count": 35,
   "metadata": {},
   "outputs": [
    {
     "name": "stdout",
     "output_type": "stream",
     "text": [
      "0 blue 루프 시작!\n",
      "0 blue 루프 종료!!\n",
      "1 yellow 루프 시작!\n",
      "2 red 루프 시작!\n",
      "2 red 루프 종료!!\n"
     ]
    }
   ],
   "source": [
    "signals = 'blue', 'yellow', 'red' # 3가지 색에 대한 튜플 생성\n",
    "\n",
    "for x in range(len(signals)): # range() 함수를 통한 for 문 수행\n",
    "    print(x, signals[x], '루프 시작!')          # 튜플의 색인, 값, 루프 시작 메시지 출력 \n",
    "\n",
    "    if signals[x] == 'yellow':\n",
    "        continue\n",
    "    \n",
    "    print(x, signals[x], '루프 종료!!')"
   ]
  },
  {
   "cell_type": "markdown",
   "metadata": {},
   "source": [
    "#### pass 문"
   ]
  },
  {
   "cell_type": "markdown",
   "metadata": {},
   "source": [
    "signals = 'blue', 'yellow', 'red'            # 3가지 색에 대한 튜플 생성\n",
    "\n",
    "for x in range(len(signals)):         \t\t    # range() 함수를 통한 for 문 수행\n",
    "    \n",
    "    print(x, signals[x], '루프 시작!')      \t# 튜플의 색인, 값, 루프 시작 메시지 출력 \n",
    "    \n",
    "    if signals[x] == 'yellow':\n",
    "        \n",
    "        pass                                    # 아무 작업 하지 않기 \n",
    "    \n",
    "    print(x, signals[x], '루프 종료!!')      \t # 튜플의 색인, 값, 루프 종료 메시지 출력\n",
    "    \n",
    "    \n",
    "print('프로그램 종료!!')                       # 프로그램 종료 메시지 출력"
   ]
  },
  {
   "cell_type": "code",
   "execution_count": 36,
   "metadata": {},
   "outputs": [
    {
     "name": "stdout",
     "output_type": "stream",
     "text": [
      "0 blue 루프 시작!\n",
      "0 blue 루프 종료!!\n",
      "1 yellow 루프 시작!\n",
      "1 yellow 루프 종료!!\n",
      "2 red 루프 시작!\n",
      "2 red 루프 종료!!\n",
      "프로그램 종료!!\n"
     ]
    }
   ],
   "source": [
    "signals = 'blue', 'yellow', 'red' # 3가지 색에 대한 튜플 생성\n",
    "\n",
    "for x in range(len(signals)): # range() 함수를 통한 for 문 수행\n",
    "\n",
    "    print(x, signals[x], '루프 시작!')          # 튜플의 색인, 값, 루프 시작 메시지 출력 \n",
    "\n",
    "    if signals[x] == 'yellow':\n",
    "        # 구현 로직은 구현해야하는데 아직 뭘구현해야할지 모르겠다.\n",
    "        pass                                   # 아무 작업 하지 않기 \n",
    "\n",
    "    print(x, signals[x], '루프 종료!!')           # 튜플의 색인, 값, 루프 종료 메시지 출력\n",
    "print('프로그램 종료!!') # 프로그램 종료 메시지 출력"
   ]
  },
  {
   "cell_type": "code",
   "execution_count": 37,
   "metadata": {},
   "outputs": [],
   "source": [
    "def func():\n",
    "    # 로직1\n",
    "    # 로직2\n",
    "    pass"
   ]
  },
  {
   "cell_type": "markdown",
   "metadata": {},
   "source": [
    "- 구현하고자 하는 함수를 미리 정의 해놓을 때도 사용한다."
   ]
  },
  {
   "cell_type": "code",
   "execution_count": null,
   "metadata": {},
   "outputs": [],
   "source": [
    "def func():\n",
    "    pass"
   ]
  },
  {
   "cell_type": "markdown",
   "metadata": {},
   "source": [
    "### Q1. \n",
    "1부터 100까지 출력\n",
    "\n",
    "1부터 100까지의 숫자를 for문을 이용하여 출력하시오.\n"
   ]
  },
  {
   "cell_type": "code",
   "execution_count": 39,
   "metadata": {},
   "outputs": [
    {
     "name": "stdout",
     "output_type": "stream",
     "text": [
      "1\n",
      "2\n",
      "3\n",
      "4\n",
      "5\n",
      "6\n",
      "7\n",
      "8\n",
      "9\n",
      "10\n",
      "11\n",
      "12\n",
      "13\n",
      "14\n",
      "15\n",
      "16\n",
      "17\n",
      "18\n",
      "19\n",
      "20\n",
      "21\n",
      "22\n",
      "23\n",
      "24\n",
      "25\n",
      "26\n",
      "27\n",
      "28\n",
      "29\n",
      "30\n",
      "31\n",
      "32\n",
      "33\n",
      "34\n",
      "35\n",
      "36\n",
      "37\n",
      "38\n",
      "39\n",
      "40\n",
      "41\n",
      "42\n",
      "43\n",
      "44\n",
      "45\n",
      "46\n",
      "47\n",
      "48\n",
      "49\n",
      "50\n",
      "51\n",
      "52\n",
      "53\n",
      "54\n",
      "55\n",
      "56\n",
      "57\n",
      "58\n",
      "59\n",
      "60\n",
      "61\n",
      "62\n",
      "63\n",
      "64\n",
      "65\n",
      "66\n",
      "67\n",
      "68\n",
      "69\n",
      "70\n",
      "71\n",
      "72\n",
      "73\n",
      "74\n",
      "75\n",
      "76\n",
      "77\n",
      "78\n",
      "79\n",
      "80\n",
      "81\n",
      "82\n",
      "83\n",
      "84\n",
      "85\n",
      "86\n",
      "87\n",
      "88\n",
      "89\n",
      "90\n",
      "91\n",
      "92\n",
      "93\n",
      "94\n",
      "95\n",
      "96\n",
      "97\n",
      "98\n",
      "99\n",
      "100\n"
     ]
    }
   ],
   "source": [
    "for i in range(1,101):\n",
    "    print(i)"
   ]
  },
  {
   "cell_type": "markdown",
   "metadata": {},
   "source": [
    "### Q2.\n",
    "\n",
    "for문을 이용하여 A 학급의 평균 점수를 구해 보자."
   ]
  },
  {
   "cell_type": "code",
   "execution_count": 42,
   "metadata": {},
   "outputs": [],
   "source": [
    "A = [70, 60, 55, 75, 95, 90, 80, 80, 85, 100]"
   ]
  },
  {
   "cell_type": "code",
   "execution_count": 44,
   "metadata": {},
   "outputs": [],
   "source": [
    "sum_value = 0\n",
    "for item in A:\n",
    "#     sum_value = sum_value + item\n",
    "    sum_value += item\n",
    "mean_value = sum_value / len(A)\n",
    "# for item in A:\n",
    "    "
   ]
  },
  {
   "cell_type": "code",
   "execution_count": 45,
   "metadata": {},
   "outputs": [
    {
     "data": {
      "text/plain": [
       "79.0"
      ]
     },
     "execution_count": 45,
     "metadata": {},
     "output_type": "execute_result"
    }
   ],
   "source": [
    "mean_value"
   ]
  },
  {
   "cell_type": "markdown",
   "metadata": {},
   "source": [
    "### 제어문과 자료구조의 조합"
   ]
  },
  {
   "cell_type": "markdown",
   "metadata": {},
   "source": [
    "#### 1. 리스트형"
   ]
  },
  {
   "cell_type": "code",
   "execution_count": null,
   "metadata": {},
   "outputs": [],
   "source": [
    "squares = []"
   ]
  },
  {
   "cell_type": "code",
   "execution_count": null,
   "metadata": {},
   "outputs": [],
   "source": [
    "for x in range(10):\n",
    "    squares.append(x**2)"
   ]
  },
  {
   "cell_type": "code",
   "execution_count": null,
   "metadata": {},
   "outputs": [],
   "source": [
    "squares"
   ]
  },
  {
   "cell_type": "markdown",
   "metadata": {},
   "source": [
    "#### 리스트 컴프리핸션\n",
    "- 리스트 한줄로 원하는 리스트 만들기\n",
    "- 파이써닉(pythonic)한 방법"
   ]
  },
  {
   "cell_type": "markdown",
   "metadata": {},
   "source": [
    "new_squares = [y**2 for y in range(10)]"
   ]
  },
  {
   "cell_type": "code",
   "execution_count": 47,
   "metadata": {},
   "outputs": [
    {
     "name": "stdout",
     "output_type": "stream",
     "text": [
      "[0, 1, 4, 9, 16, 25, 36, 49, 64, 81]\n"
     ]
    }
   ],
   "source": [
    "new_value = []\n",
    "for i in range(10):\n",
    "    new_value.append(i ** 2)\n",
    "    \n",
    "print(new_value)\n",
    "\n",
    "new_value = [i**2 for i in range(10)]"
   ]
  },
  {
   "cell_type": "code",
   "execution_count": 48,
   "metadata": {},
   "outputs": [
    {
     "data": {
      "text/plain": [
       "[0, 1, 2, 3, 4, 5, 6, 7, 8, 9]"
      ]
     },
     "execution_count": 48,
     "metadata": {},
     "output_type": "execute_result"
    }
   ],
   "source": [
    "new_value"
   ]
  },
  {
   "cell_type": "markdown",
   "metadata": {},
   "source": [
    "new_squares"
   ]
  },
  {
   "cell_type": "code",
   "execution_count": null,
   "metadata": {},
   "outputs": [],
   "source": []
  },
  {
   "cell_type": "markdown",
   "metadata": {},
   "source": [
    "- 좀 더 복잡한 표현을 간단히 만들 수 있다"
   ]
  },
  {
   "cell_type": "markdown",
   "metadata": {},
   "source": [
    "pairs = []"
   ]
  },
  {
   "cell_type": "code",
   "execution_count": null,
   "metadata": {},
   "outputs": [],
   "source": []
  },
  {
   "cell_type": "markdown",
   "metadata": {},
   "source": [
    "A = ['blue', 'yellow', 'red'] \\\n",
    "B = ['red', 'green', 'blue']\n",
    "\n",
    "for a in A:\n",
    "\n",
    "    for b in B:\n",
    "    \n",
    "        if a != b:\n",
    "        \n",
    "            pairs.append((a, b))"
   ]
  },
  {
   "cell_type": "code",
   "execution_count": null,
   "metadata": {},
   "outputs": [],
   "source": []
  },
  {
   "cell_type": "markdown",
   "metadata": {},
   "source": [
    "pairs"
   ]
  },
  {
   "cell_type": "code",
   "execution_count": 49,
   "metadata": {},
   "outputs": [],
   "source": [
    "A = ['blue', 'yellow', 'red']\n",
    "B = ['red', 'green', 'blue']"
   ]
  },
  {
   "cell_type": "markdown",
   "metadata": {},
   "source": [
    "new_pairs = [(a, b) for a in A for b in B if a != b]"
   ]
  },
  {
   "cell_type": "code",
   "execution_count": 52,
   "metadata": {},
   "outputs": [
    {
     "name": "stdout",
     "output_type": "stream",
     "text": [
      "[('blue', 'red'), ('blue', 'green'), ('yellow', 'red'), ('yellow', 'green'), ('yellow', 'blue'), ('red', 'green'), ('red', 'blue')]\n"
     ]
    }
   ],
   "source": [
    "new_pair = [(a, b) for a in A for b in B if a!=b]\n",
    "\n",
    "new_pair = []\n",
    "for a in A:\n",
    "    for b in B:\n",
    "        if a!=b:\n",
    "            new_pair.append((a,b))\n",
    "print(new_pair)"
   ]
  },
  {
   "cell_type": "markdown",
   "metadata": {},
   "source": [
    "new_pairs"
   ]
  },
  {
   "cell_type": "code",
   "execution_count": null,
   "metadata": {},
   "outputs": [],
   "source": []
  },
  {
   "cell_type": "markdown",
   "metadata": {},
   "source": [
    "#### 집합형"
   ]
  },
  {
   "cell_type": "markdown",
   "metadata": {},
   "source": [
    "a = {x for x in 'abracadabra' if x not in 'abc'}"
   ]
  },
  {
   "cell_type": "code",
   "execution_count": 53,
   "metadata": {},
   "outputs": [],
   "source": [
    "a = {x for x in 'abracadabra' if x not in 'abc'}"
   ]
  },
  {
   "cell_type": "markdown",
   "metadata": {},
   "source": [
    "a"
   ]
  },
  {
   "cell_type": "code",
   "execution_count": 54,
   "metadata": {},
   "outputs": [
    {
     "data": {
      "text/plain": [
       "{'d', 'r'}"
      ]
     },
     "execution_count": 54,
     "metadata": {},
     "output_type": "execute_result"
    }
   ],
   "source": [
    "a"
   ]
  },
  {
   "cell_type": "code",
   "execution_count": null,
   "metadata": {},
   "outputs": [],
   "source": []
  },
  {
   "cell_type": "markdown",
   "metadata": {},
   "source": [
    "#### 사전형"
   ]
  },
  {
   "cell_type": "markdown",
   "metadata": {},
   "source": [
    "{x: x**2 for x in {2, 4, 6}}"
   ]
  },
  {
   "cell_type": "code",
   "execution_count": null,
   "metadata": {},
   "outputs": [],
   "source": []
  },
  {
   "cell_type": "markdown",
   "metadata": {},
   "source": [
    "### Q1. \n",
    "#### 리스트 컴프리핸션\n",
    "\n",
    "리스트 중에서 홀수에만 2를 곱하여 저장하는 다음과 같은 코드가 있다."
   ]
  },
  {
   "cell_type": "markdown",
   "metadata": {},
   "source": [
    "numbers = [1, 2, 3, 4, 5]\n",
    "\n",
    "result = []\n",
    "\n",
    "for n in numbers: \n",
    "    \n",
    "    if n % 2 == 1:\n",
    "        \n",
    "        result.append(n*2)"
   ]
  },
  {
   "cell_type": "markdown",
   "metadata": {},
   "source": [
    "위 코드를 리스트 내포(list comprehension)를 이용하여 표현하시오."
   ]
  },
  {
   "cell_type": "code",
   "execution_count": null,
   "metadata": {},
   "outputs": [],
   "source": []
  }
 ],
 "metadata": {
  "kernelspec": {
   "display_name": "Python 3",
   "language": "python",
   "name": "python3"
  }
 },
 "nbformat": 4,
 "nbformat_minor": 2
}
