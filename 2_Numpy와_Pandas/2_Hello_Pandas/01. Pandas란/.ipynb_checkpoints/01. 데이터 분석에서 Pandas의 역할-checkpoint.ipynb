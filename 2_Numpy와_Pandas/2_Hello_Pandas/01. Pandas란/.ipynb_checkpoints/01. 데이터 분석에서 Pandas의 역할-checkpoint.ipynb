{
 "cells": [
  {
   "cell_type": "markdown",
   "metadata": {
    "heading_collapsed": true
   },
   "source": [
    "# pandas 소개"
   ]
  },
  {
   "cell_type": "markdown",
   "metadata": {
    "hidden": true
   },
   "source": [
    "* pandas는 궁극적인 목적은 진정한 의미를 포함한 정보를 데이터로부터 신속히 선별해는 것\n",
    "* Wes McKinney가 2008년 개발 시작, 2009년 오픈소스로 공개\n",
    "* pandas는 원래 금융 부문, 특히 시계열(Time Series) 데이터 조작과 주가 정보처리를 염두고 설계"
   ]
  },
  {
   "cell_type": "markdown",
   "metadata": {
    "heading_collapsed": true
   },
   "source": [
    "# 데이터 조작할 수 있는 도구"
   ]
  },
  {
   "cell_type": "markdown",
   "metadata": {
    "hidden": true
   },
   "source": [
    "* 데이터는 여러 다른 포맷으로 구성되어 있음 => 이 데이터를 조작할 수 있는 도구 필요\n",
    "* 도구의 조건\n",
    "  * 재사용과 공유를 위한 프로그래밍 가능성\n",
    "  * 외부 데이터로의 접근성\n",
    "  * 데이터의 로컬 저장 능력\n",
    "  * 효율적인 검색을 위한 데이터 인덱싱\n",
    "  * 속성에 기반을 둔 서로 다른 데이터셋의 정렬\n",
    "  * 서로 다른 데이터셋의 조합\n",
    "  * 다른 방식으로 표현하게 데이터 변형\n",
    "  * 지저분한 데이터로부터의 정제\n",
    "  * 불량 데이터의 효과적인 처리\n",
    "  * 데이터 그룹핑\n",
    "  * 데이터 집계\n",
    "  * 계산과 변형을 위한 함수 적용\n",
    "  * 탐색을 위한 쿼리와 슬라이싱\n",
    "  * 다른 형태로 재구성\n",
    "  * 범주형, 연속형, 이산형, 시계열 등과 같은 서로 다른 분류의 데이터 모델링\n",
    "  * 각기 다른 빈도의 데이터 재표집(resampling)\n",
    "* 데이터 조작할 수 있는 범용적인 도구\n",
    "  * SQL Server(RDBMS)\n",
    "  * Excel\n",
    "  * Spark\n",
    "  * R\n",
    "  * Pandas"
   ]
  },
  {
   "cell_type": "markdown",
   "metadata": {
    "heading_collapsed": true
   },
   "source": [
    "# pandas의 정적 영역의 분석도구"
   ]
  },
  {
   "cell_type": "markdown",
   "metadata": {
    "hidden": true
   },
   "source": [
    "* pandas는 기술통계와 그 기능을 중심으로 설계된 라이브러리\n",
    "* pandas는 데이터 과학을 위한 종합 툴킷이 아님\n",
    "* pandas는 전형적인 데이터 조작 도구\n",
    "  * Python으로 분석을 위해서는 Scipy, Numpy, Scikit-learn 다른 라이브러리를 이용\n",
    "  * 시각화는 matplotlib, seaborn, ggvis, plotnine(ggplot2) 이용"
   ]
  },
  {
   "cell_type": "markdown",
   "metadata": {
    "heading_collapsed": true
   },
   "source": [
    "# 데이터 분석 프로세스"
   ]
  },
  {
   "cell_type": "markdown",
   "metadata": {
    "hidden": true
   },
   "source": [
    "* pandas의 공식 웹사이트에서 말하는 분석 프로세스 단계\n",
    "  1. 데이터 먼징과 정제\n",
    "  1. 분석 및 모델링\n",
    "  1. 의사소통에 적합한 형태로 정비"
   ]
  },
  {
   "cell_type": "markdown",
   "metadata": {
    "heading_collapsed": true,
    "hidden": true
   },
   "source": [
    "## 프로세스"
   ]
  },
  {
   "cell_type": "markdown",
   "metadata": {
    "hidden": true
   },
   "source": [
    "* 데이터 프로세스(단방향이 아닌 지속적인 Iteration)\n",
    "  1. 발상 \n",
    "  1. 획득\n",
    "  1. 준비\n",
    "  1. 탐색\n",
    "  1. 모델링\n",
    "  1. 프리젠테이션\n",
    "  1. 재현\n",
    "* pandas 는 준비, 탐색, 프리젠테이션, 재현 부분을 지원한다."
   ]
  },
  {
   "cell_type": "markdown",
   "metadata": {
    "heading_collapsed": true,
    "hidden": true
   },
   "source": [
    "## 발상"
   ]
  },
  {
   "cell_type": "markdown",
   "metadata": {
    "hidden": true
   },
   "source": [
    "* 발상이란? \n",
    "  * 모든 데이터 관련 문제는 첫 단계는 밝히고자 하는 대상을 파악하는 일\n",
    "  * 실행하거나 판명하고자 하는 아이디어 구상하는 일\n",
    "  * 현명한 의사결정에 사용될 수 있는 데이터 패턴에 대해 가설을 세우는 작업"
   ]
  },
  {
   "cell_type": "markdown",
   "metadata": {
    "hidden": true
   },
   "source": [
    "* **<u>발상의 질문</u>**\n",
    "  * 어떤 사건이 발생한 이유는?\n",
    "  * 과거 데이터를 통해 미래를 예측할 수 있는가?\n",
    "  * 향후 운영을 최적화하는 방안은?"
   ]
  },
  {
   "cell_type": "markdown",
   "metadata": {
    "heading_collapsed": true,
    "hidden": true
   },
   "source": [
    "## 획득"
   ]
  },
  {
   "cell_type": "markdown",
   "metadata": {
    "hidden": true
   },
   "source": [
    "* 발상단계에서 가설을 세우고 가설을 지지하는 데이터를 찾아야 함\n",
    "* 데이터를 구하게 되면 데이터는 체계적이지 않고, 여러 포맷이고, 오류도 있으며, 불완전 수작업 보완이 필요한 데이터임"
   ]
  },
  {
   "cell_type": "markdown",
   "metadata": {
    "heading_collapsed": true,
    "hidden": true
   },
   "source": [
    "## 준비"
   ]
  },
  {
   "cell_type": "markdown",
   "metadata": {
    "hidden": true
   },
   "source": [
    "* 준비 단계에서 데이터는 순수 전처리 작업을 해야 함"
   ]
  },
  {
   "cell_type": "markdown",
   "metadata": {
    "hidden": true
   },
   "source": [
    "* 전처리가 필요한 이유\n",
    "  * 그냥 잘못된 데이터\n",
    "  * 데이터셋의 일부가 유실\n",
    "  * 데이터가 분석에 적합한 측정 방식으로 표현되지 않음\n",
    "  * 데이터가 분석에 적합한 수준의 상세함을 갖고 있지 않음\n",
    "  * 필요한 필드들이 소스 하나에 모두 들어있지 않음\n",
    "  * 데이터 표현 방법이 공급자에 따라 다름"
   ]
  },
  {
   "cell_type": "markdown",
   "metadata": {
    "hidden": true
   },
   "source": [
    "* pandas는 tidy 데이터를 만드는데 훌륭한 도구임\n",
    "  * 결측 데이터 처리\n",
    "  * 데이터 유형 변환\n",
    "  * 데이터 포맷 변환\n",
    "  * 측정 빈도 변경\n",
    "  * 다수의 데이터셋으로 데이터 결합\n",
    "  * 공통 표현 방식으로의 매핑이나 변환\n",
    "  * 데이터 그룹화 등"
   ]
  },
  {
   "cell_type": "markdown",
   "metadata": {
    "heading_collapsed": true,
    "hidden": true
   },
   "source": [
    "## 탐색"
   ]
  },
  {
   "cell_type": "markdown",
   "metadata": {
    "hidden": true
   },
   "source": [
    "* 탐색의 역할\n",
    "  * 변수들 사이의 관련성 조사\n",
    "  * 데이터 분포 양상의 판단\n",
    "  * 이상치(outlier)의 발견과 배제\n",
    "  * **<u>빠른 시각화 구현</u>**\n",
    "  * 더 지속적이고 상세한 모델링 프로세스로 진행하기 위한 데이터 표현이나 모델의 빠른 생성"
   ]
  },
  {
   "cell_type": "markdown",
   "metadata": {
    "hidden": true
   },
   "source": [
    "* pandas는 탐색 도구 중 가장 큰 강점을 가지고 있음"
   ]
  },
  {
   "cell_type": "markdown",
   "metadata": {
    "heading_collapsed": true,
    "hidden": true
   },
   "source": [
    "## 모델링"
   ]
  },
  {
   "cell_type": "markdown",
   "metadata": {
    "hidden": true
   },
   "source": [
    "* 모델링이란?\n",
    "  * 탐색단계에서 발굴한 사항을 데이터에 내포된 의미를 알아내기 위해 필요한 단계로 데이터 구조로 정형화하는 단계\n",
    "  * 정형화된 데이터를 모델이라고 함.\n",
    "    * 모델은 데이터 구조\n",
    "    * 또한, 원래 데이터로부터 정보와 결론을 도출하기 위한 코드 안의 단계도 포함\n",
    "* 모델링은 반복적인 프로세스\n",
    "    1. 분석 결과를 뒷받침할 변수를 선택\n",
    "    1. 분석 프로세스에 입력할 변수들을 조직화\n",
    "    1. 모델을 실행\n",
    "    1. 그 모델이 당초 추정을 적절히 지원하는지 파악\n",
    "* 데이터 구조를 만든다는 전형적인 모델링 있지만, 통계, 머신러닝, 경영과학 다양한 영역에서의 기법이 조합될 수 있음  "
   ]
  },
  {
   "cell_type": "markdown",
   "metadata": {
    "heading_collapsed": true,
    "hidden": true
   },
   "source": [
    "## 프리젠테이션"
   ]
  },
  {
   "cell_type": "markdown",
   "metadata": {
    "hidden": true
   },
   "source": [
    "* 주피터 노트북에서 Pandas와 함께 마크다운과 plotting을 지원함"
   ]
  },
  {
   "cell_type": "markdown",
   "metadata": {
    "heading_collapsed": true,
    "hidden": true
   },
   "source": [
    "## 재현"
   ]
  },
  {
   "cell_type": "markdown",
   "metadata": {
    "hidden": true
   },
   "source": [
    "* SCM을 통해서 바로바로 읽고 실행해 볼 수 있음"
   ]
  },
  {
   "cell_type": "markdown",
   "metadata": {
    "heading_collapsed": true
   },
   "source": [
    "# pandas 사용하기 위한 데이터와 분석의 기초 개념"
   ]
  },
  {
   "cell_type": "markdown",
   "metadata": {
    "heading_collapsed": true,
    "hidden": true
   },
   "source": [
    "## 데이터 유형"
   ]
  },
  {
   "cell_type": "markdown",
   "metadata": {
    "hidden": true
   },
   "source": [
    "* 원시 데이터를 다루다 보면 pandas 구조에 맞출 필요가 있는 다양한 데이터 범주가 존재\n",
    "* 데이터에 따라서 pandas가 처리하는 방법이 다를 수 있음\n",
    "* 유형\n",
    "  - 정형 데이터\n",
    "  - 비정형 데이터\n",
    "  - 반정형 데이터"
   ]
  },
  {
   "cell_type": "markdown",
   "metadata": {
    "heading_collapsed": true,
    "hidden": true
   },
   "source": [
    "### 정형데이터"
   ]
  },
  {
   "cell_type": "markdown",
   "metadata": {
    "hidden": true
   },
   "source": [
    "* 관계형 데이터베이스나 스프레드시트와 유사\n",
    "* 레코드나 파일 안에 고정된 필드로 구성된 데이터\n",
    "* 정형 데이터는 데이터 모델에 의존\n",
    "  * 데이터 모델은 데이터의 구성과 의미를 정의하며 종종 데이터처리 방법도 포함\n",
    "  * 데이터 유형 뿐만 아니라 데이터 제약사항도 포함\n",
    "    * 유형: 정수(integer), 부동소수점(float), 문자열(string) 등\n",
    "    * 제약사항: 자릿수, 최대값, 최소값, 허용 값 등\n",
    "* pandas는 원래 정형데이터를 이용하게 설계"
   ]
  },
  {
   "cell_type": "markdown",
   "metadata": {
    "heading_collapsed": true,
    "hidden": true
   },
   "source": [
    "### 비정형 데이터"
   ]
  },
  {
   "cell_type": "markdown",
   "metadata": {
    "hidden": true
   },
   "source": [
    "* 어떤 정의된 구조도 갖지 않는 데이터\n",
    "* 사진, 이미지, 비디오, 스트리밍 센서 데이터, 웹페이지, PDF, 파워포인트, 텍스트"
   ]
  },
  {
   "cell_type": "markdown",
   "metadata": {
    "heading_collapsed": true,
    "hidden": true
   },
   "source": [
    "### 반정형 데이터"
   ]
  },
  {
   "cell_type": "markdown",
   "metadata": {
    "hidden": true
   },
   "source": [
    "* 정형과 비정형 사이에서 존재하는 개념\n",
    "* 데이터 모델 구조가 없는 정형 데이터의 일종\n",
    "* 대표적인 예는 JSon 파일\n",
    "  * 포맷은 있지만 반드시 지켜야 하는 특정 스키마는 없음"
   ]
  },
  {
   "cell_type": "markdown",
   "metadata": {
    "heading_collapsed": true,
    "hidden": true
   },
   "source": [
    "## 변수"
   ]
  },
  {
   "cell_type": "markdown",
   "metadata": {
    "hidden": true
   },
   "source": [
    "pandas를 사용할 때 다루게 되는 통계 변수의 유형\n",
    "\n",
    "* 범주형 변수\n",
    "* 연속형 변수\n",
    "* 이산형 변수"
   ]
  },
  {
   "cell_type": "markdown",
   "metadata": {
    "hidden": true
   },
   "source": [
    "### 범주형(categorial) 변수"
   ]
  },
  {
   "cell_type": "markdown",
   "metadata": {
    "hidden": true
   },
   "source": [
    "* 정해진 값 중 하나를 가질 수 있는 변수\n",
    "  * 성별\n",
    "  * 사회 계층\n",
    "  * 혈액형\n",
    "  * 국적\n",
    "  * 관측 시간\n",
    "  * 평점\n",
    "* 가능한 값 각각을 때로는 변수(level)이라고 함\n",
    "* pandas에서는 Categorial 로 표현"
   ]
  },
  {
   "cell_type": "markdown",
   "metadata": {
    "hidden": true
   },
   "source": [
    "### 연속형 변수"
   ]
  },
  {
   "cell_type": "markdown",
   "metadata": {
    "hidden": true
   },
   "source": [
    "* 무한히 많은 값을 가질 수 있는 변수\n",
    "* 어떤 실수 값 사이의 어떤 값도 가능\n",
    "  * 높이\n",
    "  * 시간\n",
    "  * 온도\n",
    "* pandas 에서는 float 타입"
   ]
  },
  {
   "cell_type": "markdown",
   "metadata": {
    "hidden": true
   },
   "source": [
    "### 이산형 변수"
   ]
  },
  {
   "cell_type": "markdown",
   "metadata": {
    "hidden": true
   },
   "source": [
    "* 서로 구분되는 값들 이루어진 집합에서의 개수에 근거한 변수\n",
    "* 분수는 이산형 변수의 값이 될 수 없음\n",
    "* 셀 수 있는 단위를 측정\n",
    "  * 자동차 등록 대수\n",
    "  * 사업장 수\n",
    "  * 자녀 수\n",
    "* pandas에서는 int 타입"
   ]
  },
  {
   "cell_type": "markdown",
   "metadata": {
    "heading_collapsed": true
   },
   "source": [
    "# 분석과 통계의 pandas"
   ]
  },
  {
   "cell_type": "markdown",
   "metadata": {
    "heading_collapsed": true,
    "hidden": true
   },
   "source": [
    "## 기술 통계"
   ]
  },
  {
   "cell_type": "markdown",
   "metadata": {
    "hidden": true
   },
   "source": [
    "* 일반적으로 단일 변수(단변량 데이터)의 모집단이나 표본을 나타내는 **<u>데이터셋을 요약</u>**하는 역할\n",
    "* 데이터셋을 설명하며 중심경향성을 나타내는 측정치와 변동성 나타냄\n",
    "* 분포\n",
    "  * 정규 분포(normal distribution)\n",
    "  * 푸아송 분포(poisson distribution)\n",
    "* 중심경향성\n",
    "  * 평균(mean)\n",
    "  * 중위수(median)\n",
    "  * 최빈수(mode)\n",
    "* 분산성\n",
    "  * 분산(variance)\n",
    "  * 표준편차(standard deviation)"
   ]
  },
  {
   "cell_type": "markdown",
   "metadata": {
    "heading_collapsed": true,
    "hidden": true
   },
   "source": [
    "## 추리 통계"
   ]
  },
  {
   "cell_type": "markdown",
   "metadata": {
    "ExecuteTime": {
     "end_time": "2019-04-22T05:22:37.080615Z",
     "start_time": "2019-04-22T05:22:37.073848Z"
    },
    "hidden": true
   },
   "source": [
    "* 데이터를 단순하게 요약하는 것이 아닌 데이터 결과로부터 추론\n",
    "  * t 검정(t-test)\n",
    "  * 카이제곱(chi square) 검정\n",
    "  * 분산분석(ANOVA)\n",
    "  * 부스트래핑(boostrapping)\n",
    "* pandas는 Scipy, StatsModels 라이브러리를 이용"
   ]
  },
  {
   "cell_type": "markdown",
   "metadata": {
    "heading_collapsed": true
   },
   "source": [
    "# 기타 유용한 파이썬 라이브러리"
   ]
  },
  {
   "cell_type": "markdown",
   "metadata": {
    "heading_collapsed": true,
    "hidden": true
   },
   "source": [
    "## 스토캐스틱 모델"
   ]
  },
  {
   "cell_type": "markdown",
   "metadata": {
    "hidden": true
   },
   "source": [
    "* 목적: 서로 다른 상황을 만드는 예상 조건에서의 예측치 안에 실제 결과가 포함될 가능성을 추정\n",
    "  * 하나 이상의 확률 변수(random variable)를 포함하는 통계 모델의 한 형태\n",
    "  * 보통 시계열 데이터도 함께 사용\n",
    "  * 스토캐스틱의 대표적인 모델: 몬테카를로 시뮤레이션(Monte Carlo Simulation) \n",
    "* pandas 에서는 PyMC 라이브러리 이용"
   ]
  },
  {
   "cell_type": "markdown",
   "metadata": {
    "heading_collapsed": true,
    "hidden": true
   },
   "source": [
    "## 수학과 과학"
   ]
  },
  {
   "cell_type": "markdown",
   "metadata": {
    "hidden": true
   },
   "source": [
    "* NumPy\n",
    "* SciPy\n",
    "* StatsModels\n",
    "  * 선형 회귀 모델(linear regression model)\n",
    "  * 일반 선형 모델(generalized linear model): GLM\n",
    "  * 이산 선택 모델(discrete choice model)\n",
    "  * 로버스트 회귀 모델(robust regression model)\n",
    "  * 시계열 분석을 위한 다수의 모델과 함수\n",
    "  * 비모수 추정량(nonparametric estimator)\n",
    "  * 예제로서의 데이터셋 모음\n",
    "  * 다양한 통계 검정\n",
    "  * 여러 다양한 포맷(텍스트, LaTex, HTML 등)의 테이블 생성\n",
    "  * 플로팅 함수\n",
    "* 머신러닝\n",
    "  * Scikit-learn\n",
    "  * 분류, 회귀, 군집화(clustering), 차원축소(dimensionality reduction), 모델 선택(model selection), 전처리(preprocessing)"
   ]
  },
  {
   "cell_type": "markdown",
   "metadata": {
    "heading_collapsed": true,
    "hidden": true
   },
   "source": [
    "## 시각화"
   ]
  },
  {
   "cell_type": "markdown",
   "metadata": {
    "hidden": true
   },
   "source": [
    "* matplotlib\n",
    "* seaborn\n",
    "* plotnine: ggplot2 대안\n",
    "* folium: 지도 시각화"
   ]
  }
 ],
 "metadata": {
  "hide_input": false,
  "kernelspec": {
   "display_name": "Python 3",
   "language": "python",
   "name": "python3"
  },
  "language_info": {
   "codemirror_mode": {
    "name": "ipython",
    "version": 3
   },
   "file_extension": ".py",
   "mimetype": "text/x-python",
   "name": "python",
   "nbconvert_exporter": "python",
   "pygments_lexer": "ipython3",
   "version": "3.8.5"
  },
  "toc": {
   "base_numbering": 1,
   "nav_menu": {},
   "number_sections": true,
   "sideBar": true,
   "skip_h1_title": false,
   "title_cell": "Table of Contents",
   "title_sidebar": "Contents",
   "toc_cell": false,
   "toc_position": {},
   "toc_section_display": true,
   "toc_window_display": true
  },
  "varInspector": {
   "cols": {
    "lenName": 16,
    "lenType": 16,
    "lenVar": 40
   },
   "kernels_config": {
    "python": {
     "delete_cmd_postfix": "",
     "delete_cmd_prefix": "del ",
     "library": "var_list.py",
     "varRefreshCmd": "print(var_dic_list())"
    },
    "r": {
     "delete_cmd_postfix": ") ",
     "delete_cmd_prefix": "rm(",
     "library": "var_list.r",
     "varRefreshCmd": "cat(var_dic_list()) "
    }
   },
   "types_to_exclude": [
    "module",
    "function",
    "builtin_function_or_method",
    "instance",
    "_Feature"
   ],
   "window_display": false
  }
 },
 "nbformat": 4,
 "nbformat_minor": 2
}
