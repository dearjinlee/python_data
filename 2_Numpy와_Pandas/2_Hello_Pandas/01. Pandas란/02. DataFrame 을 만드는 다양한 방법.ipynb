{
 "cells": [
  {
   "cell_type": "markdown",
   "metadata": {},
   "source": [
    "# 리스트로 만들기; Array, List, Series"
   ]
  },
  {
   "cell_type": "markdown",
   "metadata": {},
   "source": [
    "* 2차원 리스트나 2차원 numpy array로 DataFrame을 만들 수 있음\n",
    "* pandas Series를 담고 있는 리스트로도 DataFrame을 만들 수 있음\n",
    "* 따로 column과 row(index)에 대한 설정이 없으면 그냥 0, 1, 2, ... 순서로 인덱싱 됨"
   ]
  },
  {
   "cell_type": "code",
   "execution_count": 2,
   "metadata": {
    "ExecuteTime": {
     "end_time": "2019-05-06T09:57:18.089196Z",
     "start_time": "2019-05-06T09:57:18.071623Z"
    }
   },
   "outputs": [],
   "source": [
    "import numpy as np\n",
    "import pandas as pd"
   ]
  },
  {
   "cell_type": "markdown",
   "metadata": {},
   "source": [
    "two_dimensional_list = [['Ryan', 44, 64], ['Melissa', 30, 58], ['Rachael', 68, 91], ['Ramela', 2, 10]]\n",
    "\n",
    "two_dimensional_array = np.array(two_dimensional_list)"
   ]
  },
  {
   "cell_type": "code",
   "execution_count": null,
   "metadata": {},
   "outputs": [],
   "source": []
  },
  {
   "cell_type": "markdown",
   "metadata": {},
   "source": [
    "list_of_series = [\n",
    "\n",
    "    pd.Series(['Ryan', 44, 64]), \n",
    "\n",
    "    pd.Series(['Melissa', 30, 58]), \n",
    "    \n",
    "    pd.Series(['Rachael', 68, 91]), \n",
    "    \n",
    "    pd.Series(['Ramela', 2, 10]), \n",
    "]"
   ]
  },
  {
   "cell_type": "code",
   "execution_count": null,
   "metadata": {},
   "outputs": [],
   "source": []
  },
  {
   "cell_type": "markdown",
   "metadata": {},
   "source": [
    "### 아래 셋은 모두 동일합니"
   ]
  },
  {
   "cell_type": "markdown",
   "metadata": {},
   "source": [
    "df1 = pd.DataFrame(two_dimensional_list)\n",
    "\n",
    "df2 = pd.DataFrame(two_dimensional_array)\n",
    "\n",
    "df3 = pd.DataFrame(list_of_series)\n",
    "\n",
    "print(df1)\n",
    "\n",
    "print(df2)\n",
    "\n",
    "print(df3)"
   ]
  },
  {
   "cell_type": "code",
   "execution_count": null,
   "metadata": {},
   "outputs": [],
   "source": []
  },
  {
   "cell_type": "markdown",
   "metadata": {},
   "source": [
    "# 사전으로 만들기1"
   ]
  },
  {
   "cell_type": "markdown",
   "metadata": {
    "ExecuteTime": {
     "end_time": "2019-05-01T03:35:34.406830Z",
     "start_time": "2019-05-01T03:35:34.403223Z"
    }
   },
   "source": [
    "파이썬 사전(dictionary)으로도 DataFrame을 만들 수 있습니다.\n",
    "\n",
    "사전의 key로는 column 이름을 쓰고, 그 column에 해당하는 리스트, numpy array, 혹은 pandas Series를 사전의 value로 넣어주면 됩니다."
   ]
  },
  {
   "cell_type": "markdown",
   "metadata": {
    "ExecuteTime": {
     "end_time": "2019-05-06T09:58:05.516018Z",
     "start_time": "2019-05-06T09:58:05.502895Z"
    }
   },
   "source": [
    "names = ['Ryan', 'Melissa', 'Rachael', 'Ramela']\n",
    "\n",
    "english_scores = [50, 89, 68, 88]\n",
    "\n",
    "math_scores = [86, 31, 91, 75]"
   ]
  },
  {
   "cell_type": "code",
   "execution_count": null,
   "metadata": {},
   "outputs": [],
   "source": []
  },
  {
   "cell_type": "markdown",
   "metadata": {},
   "source": [
    "dict1 = {\n",
    "    \n",
    "    'name': names, \n",
    "    \n",
    "    'english_score': english_scores, \n",
    "    \n",
    "    'math_score': math_scores\n",
    "}\n",
    "\n",
    "dict2 = {\n",
    "    \n",
    "    'name': np.array(names), \n",
    "    \n",
    "    'english_score': np.array(english_scores), \n",
    "    \n",
    "    'math_score': np.array(math_scores)\n",
    "}\n",
    "\n",
    "dict3 = {\n",
    "    \n",
    "    'name': pd.Series(names), \n",
    "\n",
    "    'english_score': pd.Series(english_scores), \n",
    "    \n",
    "    'math_score': pd.Series(math_scores)\n",
    "}\n"
   ]
  },
  {
   "cell_type": "code",
   "execution_count": null,
   "metadata": {},
   "outputs": [],
   "source": []
  },
  {
   "cell_type": "markdown",
   "metadata": {},
   "source": [
    "### 아래 셋은 모두 동일합니다"
   ]
  },
  {
   "cell_type": "markdown",
   "metadata": {},
   "source": [
    "df1 = pd.DataFrame(dict1)\n",
    "\n",
    "df2 = pd.DataFrame(dict2)\n",
    "\n",
    "df3 = pd.DataFrame(dict3)\n",
    "\n",
    "print(df1)\n"
   ]
  },
  {
   "cell_type": "code",
   "execution_count": null,
   "metadata": {},
   "outputs": [],
   "source": []
  },
  {
   "cell_type": "markdown",
   "metadata": {},
   "source": [
    "# 사전으로 만들기2\n"
   ]
  },
  {
   "cell_type": "markdown",
   "metadata": {
    "ExecuteTime": {
     "end_time": "2019-05-06T09:58:25.772405Z",
     "start_time": "2019-05-06T09:58:25.764725Z"
    }
   },
   "source": [
    "my_list = [\n",
    "    \n",
    "    {'name': 'Ryan', 'english_score': 50, 'math_score': 86},\n",
    "    \n",
    "    {'name': 'Melissa', 'english_score': 89, 'math_score': 31},\n",
    "    \n",
    "    {'name': 'Rachael', 'english_score': 68, 'math_score': 91},\n",
    " \n",
    "    {'name': 'Ramela', 'english_score': 88, 'math_score': 75}\n",
    "]"
   ]
  },
  {
   "cell_type": "code",
   "execution_count": null,
   "metadata": {},
   "outputs": [],
   "source": []
  },
  {
   "cell_type": "markdown",
   "metadata": {},
   "source": [
    "df = pd.DataFrame(my_list)\n",
    "\n",
    "print(df)"
   ]
  },
  {
   "cell_type": "code",
   "execution_count": null,
   "metadata": {},
   "outputs": [],
   "source": []
  }
 ],
 "metadata": {
  "hide_input": false,
  "kernelspec": {
   "display_name": "Python 3",
   "language": "python",
   "name": "python3"
  },
  "toc": {
   "base_numbering": 1,
   "nav_menu": {},
   "number_sections": true,
   "sideBar": true,
   "skip_h1_title": false,
   "title_cell": "Table of Contents",
   "title_sidebar": "Contents",
   "toc_cell": false,
   "toc_position": {},
   "toc_section_display": true,
   "toc_window_display": true
  },
  "varInspector": {
   "cols": {
    "lenName": 16,
    "lenType": 16,
    "lenVar": 40
   },
   "kernels_config": {
    "python": {
     "delete_cmd_postfix": "",
     "delete_cmd_prefix": "del ",
     "library": "var_list.py",
     "varRefreshCmd": "print(var_dic_list())"
    },
    "r": {
     "delete_cmd_postfix": ") ",
     "delete_cmd_prefix": "rm(",
     "library": "var_list.r",
     "varRefreshCmd": "cat(var_dic_list()) "
    }
   },
   "types_to_exclude": [
    "module",
    "function",
    "builtin_function_or_method",
    "instance",
    "_Feature"
   ],
   "window_display": false
  }
 },
 "nbformat": 4,
 "nbformat_minor": 2
}
